{
 "cells": [
  {
   "cell_type": "code",
   "execution_count": null,
   "id": "2e8c3630",
   "metadata": {},
   "outputs": [],
   "source": [
    "import pandas as pd\n",
    "import csv\n",
    "\n",
    "#reads archive using read_csv function\n",
    "df = pd.read_csv('titanic.csv')\n",
    "\n",
    "#displays first lines using head function\n",
    "print(df.head())\n",
    "\n",
    "#prints from lines 0 to 15 the columns Name, Age, Sex, and Survived\n",
    "print(df.loc[0:15,['Name', 'Age', 'Sex', 'Survived']])\n",
    "#prints from the first 5 lines the columns Survived, Pclass and Age\n",
    "print(df[['Survived', 'Pclass', 'Age']].head())\n",
    "#prints from lines 15 to 25 the columns Pclass and Fare\n",
    "print(df.loc[15:25,['Pclass', 'Fare']])\n",
    "#prints from lines 20 to 25 the columns Pclass and Embarked\n",
    "print(df.loc[20:25], ['Pclass', 'Embarked'])\n",
    "\n",
    "\n",
    "print(df.describe())\n",
    "\n",
    "\n"
   ]
  }
 ],
 "metadata": {
  "language_info": {
   "name": "python"
  }
 },
 "nbformat": 4,
 "nbformat_minor": 5
}
